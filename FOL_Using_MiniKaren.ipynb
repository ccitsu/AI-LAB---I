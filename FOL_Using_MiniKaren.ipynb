{
  "nbformat": 4,
  "nbformat_minor": 0,
  "metadata": {
    "colab": {
      "provenance": [],
      "collapsed_sections": [],
      "authorship_tag": "ABX9TyOMfWGwwmygAaWhv1cf9Fbk",
      "include_colab_link": true
    },
    "kernelspec": {
      "name": "python3",
      "display_name": "Python 3"
    },
    "language_info": {
      "name": "python"
    }
  },
  "cells": [
    {
      "cell_type": "markdown",
      "metadata": {
        "id": "view-in-github",
        "colab_type": "text"
      },
      "source": [
        "<a href=\"https://colab.research.google.com/github/nayyarahmed/AI-LAB---I/blob/master/FOL_Using_MiniKaren.ipynb\" target=\"_parent\"><img src=\"https://colab.research.google.com/assets/colab-badge.svg\" alt=\"Open In Colab\"/></a>"
      ]
    },
    {
      "cell_type": "markdown",
      "source": [
        "Logic programming is a general programming paradigm. This implementation however came about specifically to serve as an algorithmic core for Computer Algebra Systems in Python and for the automated generation and optimization of numeric software. Domain specific languages, code generation, and compilers have recently been a hot topic in the Scientific Python community. kanren aims to be a low-level core for these projects."
      ],
      "metadata": {
        "id": "eAGnEDKnv7eA"
      }
    },
    {
      "cell_type": "markdown",
      "source": [
        "Kanren enables one to express sophisticated relations—in the form of goals—and generate values that satisfy the relations. The following code is the \"Hello, world!\" of logic programming; it asks for values of the logic variable x such that x == 5:"
      ],
      "metadata": {
        "id": "87XeIuznvyry"
      }
    },
    {
      "cell_type": "markdown",
      "source": [],
      "metadata": {
        "id": "NaKWyCdOl8cg"
      }
    },
    {
      "cell_type": "code",
      "execution_count": null,
      "metadata": {
        "colab": {
          "base_uri": "https://localhost:8080/"
        },
        "id": "QoUC63FbvBKf",
        "outputId": "88c20876-0c00-488d-ea8b-89d8ecf10693"
      },
      "outputs": [
        {
          "output_type": "execute_result",
          "data": {
            "text/plain": [
              "(5,)"
            ]
          },
          "metadata": {},
          "execution_count": 4
        }
      ],
      "source": [
        "from kanren import run, eq, membero, var, lall\n",
        "x = var()\n",
        "run(1, x, eq(x, 5))"
      ]
    },
    {
      "cell_type": "markdown",
      "source": [
        "Multiple logic variables and goals can be used simultaneously. The following  code asks for one list containing the values of x and z such that x == z and z == 3:"
      ],
      "metadata": {
        "id": "hCS8t3_Vwed2"
      }
    },
    {
      "cell_type": "code",
      "source": [
        "z = var()\n",
        "run(1, [x, z], eq(x, z),eq(z, 3))"
      ],
      "metadata": {
        "colab": {
          "base_uri": "https://localhost:8080/"
        },
        "id": "1nRvBLpQwhNs",
        "outputId": "046923dd-57c4-41ca-9298-390fd9d5f3b6"
      },
      "execution_count": null,
      "outputs": [
        {
          "output_type": "execute_result",
          "data": {
            "text/plain": [
              "([3, 3],)"
            ]
          },
          "metadata": {},
          "execution_count": 5
        }
      ]
    },
    {
      "cell_type": "markdown",
      "source": [
        "kanren uses unification to match forms within expression trees. The following code asks for values of x such that (1, 2) == (1, x):"
      ],
      "metadata": {
        "id": "QroDhYqNwpVG"
      }
    },
    {
      "cell_type": "code",
      "source": [
        "run(1, x, eq((1, 2), (1, x)))"
      ],
      "metadata": {
        "colab": {
          "base_uri": "https://localhost:8080/"
        },
        "id": "97fTC_8dwsJe",
        "outputId": "37eda524-e63d-4cac-ed9c-14d1813599ea"
      },
      "execution_count": null,
      "outputs": [
        {
          "output_type": "execute_result",
          "data": {
            "text/plain": [
              "(2,)"
            ]
          },
          "metadata": {},
          "execution_count": 6
        }
      ]
    },
    {
      "cell_type": "markdown",
      "source": [
        "The above examples use eq: a goal constructor that creates a goal for unification between two objects. Other goal constructors, such as membero(item, coll), express more sophisticated relations and are often constructed from simpler ones like eq. More specifically, membero states that item is a member of the collection coll.\n",
        "\n",
        "The following example uses membero to ask for all values of x, such that x is a member of (1, 2, 3) and x is a member of (2, 3, 4)."
      ],
      "metadata": {
        "id": "iBbHievLw2q9"
      }
    },
    {
      "cell_type": "code",
      "source": [
        "run(0, x, membero(x, (1, 2, 3)),  # x is a member of (1, 2, 3)\n",
        "              membero(x, (2, 3, 4)))  # x is a member of (2, 3, 4)"
      ],
      "metadata": {
        "colab": {
          "base_uri": "https://localhost:8080/"
        },
        "id": "LrWdCynTw6Tm",
        "outputId": "6c65788c-6340-4064-e7cc-2b129b83d909"
      },
      "execution_count": null,
      "outputs": [
        {
          "output_type": "execute_result",
          "data": {
            "text/plain": [
              "(2, 3)"
            ]
          },
          "metadata": {},
          "execution_count": 7
        }
      ]
    },
    {
      "cell_type": "markdown",
      "source": [
        "The examples above made implicit use of the goal constructors lall and lany, which represent goal conjunction and disjunction, respectively. Many useful relations can be expressed with lall, lany, and eq alone, but in kanren it's also easy to leverage the host language and explicitly create any relation expressible in Python."
      ],
      "metadata": {
        "id": "DGiF1CelxBh1"
      }
    },
    {
      "cell_type": "markdown",
      "source": [
        "# KNOWLEDGE REPRESENTATION "
      ],
      "metadata": {
        "id": "SR9yBILoxC2d"
      }
    },
    {
      "cell_type": "code",
      "source": [
        "from kanren import Relation, facts\n",
        "parent = Relation()\n",
        "facts(parent, (\"Homer\", \"Bart\"), (\"Homer\", \"Lisa\"), (\"Abe\",  \"Homer\"))\n",
        "\n",
        "run(1, x, parent(x, \"Bart\"))\n",
        "run(2, x, parent(\"Homer\", x))"
      ],
      "metadata": {
        "colab": {
          "base_uri": "https://localhost:8080/"
        },
        "id": "85jnVBtMxIb0",
        "outputId": "4693dfeb-e405-4df3-9005-12e274101032"
      },
      "execution_count": null,
      "outputs": [
        {
          "output_type": "execute_result",
          "data": {
            "text/plain": [
              "('Bart', 'Lisa')"
            ]
          },
          "metadata": {},
          "execution_count": 10
        }
      ]
    },
    {
      "cell_type": "markdown",
      "source": [
        "We can use intermediate variables for more complex queries. For instance, who is Bart's grandfather?"
      ],
      "metadata": {
        "id": "EMtC9R06x1qD"
      }
    },
    {
      "cell_type": "code",
      "source": [
        "grandparent_lv, parent_lv = var(), var()\n",
        "run(1, grandparent_lv, parent(grandparent_lv, parent_lv),\n",
        "                           parent(parent_lv, 'Bart'))\n"
      ],
      "metadata": {
        "colab": {
          "base_uri": "https://localhost:8080/"
        },
        "id": "puxbNJ4Wx5wL",
        "outputId": "14af46f9-b63a-46f2-f9a7-6de0a35b8dc9"
      },
      "execution_count": null,
      "outputs": [
        {
          "output_type": "execute_result",
          "data": {
            "text/plain": [
              "('Abe',)"
            ]
          },
          "metadata": {},
          "execution_count": 11
        }
      ]
    },
    {
      "cell_type": "markdown",
      "source": [
        "kanren provides a fully functional constraint system that allows one to restrict unification and object types:\n",
        "\n"
      ],
      "metadata": {
        "id": "tScXPFL26gqo"
      }
    },
    {
      "cell_type": "code",
      "source": [
        "from kanren.constraints import neq, isinstanceo\n",
        "run(0, x, neq(x, 1), neq(x, 3), membero(x, (1, 2, 3)))"
      ],
      "metadata": {
        "colab": {
          "base_uri": "https://localhost:8080/"
        },
        "id": "Q9CKk1It6iJy",
        "outputId": "1e7cbf27-c108-4f08-ea83-2e1df8e7791c"
      },
      "execution_count": null,
      "outputs": [
        {
          "output_type": "execute_result",
          "data": {
            "text/plain": [
              "(2,)"
            ]
          },
          "metadata": {},
          "execution_count": 12
        }
      ]
    },
    {
      "cell_type": "code",
      "source": [
        "from numbers import Integral\n",
        "run(0, x, isinstanceo(x, Integral),membero(x, (1.1, 2, 3.2, 4)))"
      ],
      "metadata": {
        "colab": {
          "base_uri": "https://localhost:8080/"
        },
        "id": "YwbWekze67pS",
        "outputId": "7b8d9fb2-55f3-4472-f2e9-02b4708dc5cd"
      },
      "execution_count": null,
      "outputs": [
        {
          "output_type": "execute_result",
          "data": {
            "text/plain": [
              "(2, 4)"
            ]
          },
          "metadata": {},
          "execution_count": 13
        }
      ]
    },
    {
      "cell_type": "markdown",
      "source": [
        "http://minikanren.org/\n",
        "\n",
        "https://github.com/pythological/kanren/blob/main/doc/graphs.md\n",
        "\n",
        "\n"
      ],
      "metadata": {
        "id": "_-dL09llrmk1"
      }
    },
    {
      "cell_type": "code",
      "source": [
        "from kanren import run, var, fact\n",
        "from kanren.assoccomm import eq_assoccomm as eq\n",
        "from kanren.assoccomm import commutative, associative\n",
        "add = 'add'\n",
        "mul = 'mul'"
      ],
      "metadata": {
        "id": "jJLDmiLz1pcw"
      },
      "execution_count": null,
      "outputs": []
    },
    {
      "cell_type": "code",
      "source": [
        "fact(commutative, mul)\n",
        "fact(commutative, add)\n",
        "fact(associative, mul)\n",
        "fact(associative, add)"
      ],
      "metadata": {
        "id": "jN5fezdL1w4f"
      },
      "execution_count": null,
      "outputs": []
    },
    {
      "cell_type": "code",
      "source": [
        "a, b = var('a'), var('b')"
      ],
      "metadata": {
        "id": "xN_nCQEE12iP"
      },
      "execution_count": null,
      "outputs": []
    },
    {
      "cell_type": "code",
      "source": [
        "original_pattern = (mul, (add, 5, a), b)"
      ],
      "metadata": {
        "id": "Hxwk3lBs16JX"
      },
      "execution_count": null,
      "outputs": []
    },
    {
      "cell_type": "code",
      "source": [
        "exp1 = (mul, 2, (add, 3, 1))\n",
        "exp2 = (add,5,(mul,8,1))"
      ],
      "metadata": {
        "id": "qD9OyQwu1-iP"
      },
      "execution_count": null,
      "outputs": []
    },
    {
      "cell_type": "code",
      "source": [
        "print(run(0, (a,b), eq(original_pattern, exp1)))\n",
        "print(run(0, (a,b), eq(original_pattern, exp2)))"
      ],
      "metadata": {
        "colab": {
          "base_uri": "https://localhost:8080/"
        },
        "id": "9dmdbuLd2EcX",
        "outputId": "5d1d6911-3dd3-4699-ff58-8186d8d70b49"
      },
      "execution_count": null,
      "outputs": [
        {
          "output_type": "stream",
          "name": "stdout",
          "text": [
            "()\n",
            "()\n"
          ]
        }
      ]
    },
    {
      "cell_type": "markdown",
      "source": [
        "Checking for Prime Numbers\n",
        "With the help of logic programming, we can find the prime numbers from a list of numbers and can also generate prime numbers. The Python code given below will find the prime number from a list of numbers and will also generate the first 10 prime numbers."
      ],
      "metadata": {
        "id": "o-eD5DID2VPK"
      }
    },
    {
      "cell_type": "code",
      "source": [
        "from kanren import isvar, run, membero\n",
        "from kanren import success, fail, goaleval, condeseq, eq, var\n",
        "from sympy.ntheory.generate import prime, isprime\n",
        "import itertools as it\n"
      ],
      "metadata": {
        "colab": {
          "base_uri": "https://localhost:8080/",
          "height": 356
        },
        "id": "7pgkLAdY2ZYO",
        "outputId": "1cd18d11-8d0a-485b-942b-76465a4d51b8"
      },
      "execution_count": null,
      "outputs": [
        {
          "output_type": "error",
          "ename": "ImportError",
          "evalue": "ignored",
          "traceback": [
            "\u001b[0;31m---------------------------------------------------------------------------\u001b[0m",
            "\u001b[0;31mImportError\u001b[0m                               Traceback (most recent call last)",
            "\u001b[0;32m<ipython-input-21-5ae36a576710>\u001b[0m in \u001b[0;36m<module>\u001b[0;34m\u001b[0m\n\u001b[1;32m      1\u001b[0m \u001b[0;32mfrom\u001b[0m \u001b[0mkanren\u001b[0m \u001b[0;32mimport\u001b[0m \u001b[0misvar\u001b[0m\u001b[0;34m,\u001b[0m \u001b[0mrun\u001b[0m\u001b[0;34m,\u001b[0m \u001b[0mmembero\u001b[0m\u001b[0;34m\u001b[0m\u001b[0;34m\u001b[0m\u001b[0m\n\u001b[0;32m----> 2\u001b[0;31m \u001b[0;32mfrom\u001b[0m \u001b[0mkanren\u001b[0m \u001b[0;32mimport\u001b[0m \u001b[0msuccess\u001b[0m\u001b[0;34m,\u001b[0m \u001b[0mfail\u001b[0m\u001b[0;34m,\u001b[0m \u001b[0mgoaleval\u001b[0m\u001b[0;34m,\u001b[0m \u001b[0mcondeseq\u001b[0m\u001b[0;34m,\u001b[0m \u001b[0meq\u001b[0m\u001b[0;34m,\u001b[0m \u001b[0mvar\u001b[0m\u001b[0;34m\u001b[0m\u001b[0;34m\u001b[0m\u001b[0m\n\u001b[0m\u001b[1;32m      3\u001b[0m \u001b[0;32mfrom\u001b[0m \u001b[0msympy\u001b[0m\u001b[0;34m.\u001b[0m\u001b[0mntheory\u001b[0m\u001b[0;34m.\u001b[0m\u001b[0mgenerate\u001b[0m \u001b[0;32mimport\u001b[0m \u001b[0mprime\u001b[0m\u001b[0;34m,\u001b[0m \u001b[0misprime\u001b[0m\u001b[0;34m\u001b[0m\u001b[0;34m\u001b[0m\u001b[0m\n\u001b[1;32m      4\u001b[0m \u001b[0;32mimport\u001b[0m \u001b[0mitertools\u001b[0m \u001b[0;32mas\u001b[0m \u001b[0mit\u001b[0m\u001b[0;34m\u001b[0m\u001b[0;34m\u001b[0m\u001b[0m\n",
            "\u001b[0;31mImportError\u001b[0m: cannot import name 'success' from 'kanren' (/usr/local/lib/python3.7/dist-packages/kanren/__init__.py)",
            "",
            "\u001b[0;31m---------------------------------------------------------------------------\u001b[0;32m\nNOTE: If your import is failing due to a missing package, you can\nmanually install dependencies using either !pip or !apt.\n\nTo view examples of installing some common dependencies, click the\n\"Open Examples\" button below.\n\u001b[0;31m---------------------------------------------------------------------------\u001b[0m\n"
          ],
          "errorDetails": {
            "actions": [
              {
                "action": "open_url",
                "actionText": "Open Examples",
                "url": "/notebooks/snippets/importing_libraries.ipynb"
              }
            ]
          }
        }
      ]
    }
  ]
}