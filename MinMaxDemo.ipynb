{
  "nbformat": 4,
  "nbformat_minor": 0,
  "metadata": {
    "colab": {
      "provenance": [],
      "authorship_tag": "ABX9TyNB1JLfV1RAeulFK/4siYhB",
      "include_colab_link": true
    },
    "kernelspec": {
      "name": "python3",
      "display_name": "Python 3"
    },
    "language_info": {
      "name": "python"
    }
  },
  "cells": [
    {
      "cell_type": "markdown",
      "metadata": {
        "id": "view-in-github",
        "colab_type": "text"
      },
      "source": [
        "<a href=\"https://colab.research.google.com/github/nayyarahmed/AI-LAB---I/blob/master/MinMaxDemo.ipynb\" target=\"_parent\"><img src=\"https://colab.research.google.com/assets/colab-badge.svg\" alt=\"Open In Colab\"/></a>"
      ]
    },
    {
      "cell_type": "markdown",
      "source": [
        "MINMAX DEMO CODE "
      ],
      "metadata": {
        "id": "ieiDBUINoGTc"
      }
    },
    {
      "cell_type": "code",
      "source": [
        "print(\"HelloWorld!\")"
      ],
      "metadata": {
        "colab": {
          "base_uri": "https://localhost:8080/"
        },
        "id": "XNOehE2xoOuc",
        "outputId": "9d0aef2b-dbef-4eae-b30e-02404628dea9"
      },
      "execution_count": 2,
      "outputs": [
        {
          "output_type": "stream",
          "name": "stdout",
          "text": [
            "HelloWorld!\n"
          ]
        }
      ]
    },
    {
      "cell_type": "markdown",
      "source": [
        "LETS PLAY WITH MIN MAX"
      ],
      "metadata": {
        "id": "PfCXLzDeoU9S"
      }
    },
    {
      "cell_type": "code",
      "source": [
        "MAX, MIN = 1000, -1000 \n",
        "def minimax(depth, nodeIndex, maximizingPlayer, \n",
        "\t\t\tvalues, alpha, beta): \n",
        "\n",
        "\tif depth == 3: \n",
        "\t\treturn values[nodeIndex] \n",
        "\n",
        "\tif maximizingPlayer: \n",
        "\t\n",
        "\t\tbest = MIN\n",
        "\n",
        "\t\tfor i in range(0, 2): \n",
        "\t\t\t\n",
        "\t\t\tval = minimax(depth + 1, nodeIndex * 2 + i, \n",
        "\t\t\t\t\t\tFalse, values, alpha, beta) \n",
        "\t\t\tbest = max(best, val) \n",
        "\t\t\talpha = max(alpha, best) \n",
        "\n",
        "\t\t\tif beta <= alpha: \n",
        "\t\t\t\tbreak\n",
        "\t\t\n",
        "\t\treturn best \n",
        "\t\n",
        "\telse: \n",
        "\t\tbest = MAX\n",
        "\t\tfor i in range(0, 2): \n",
        "\t\t\n",
        "\t\t\tval = minimax(depth + 1, nodeIndex * 2 + i, \n",
        "\t\t\t\t\t\t\tTrue, values, alpha, beta) \n",
        "\t\t\tbest = min(best, val) \n",
        "\t\t\tbeta = min(beta, best) \n",
        "\t\t\tif beta <= alpha: \n",
        "\t\t\t\tbreak\n",
        "\t\t\n",
        "\t\treturn best \n",
        "\t\n",
        "if __name__ == \"__main__\": \n",
        "\n",
        "    values = []\n",
        "    for i in range(0, 8):\n",
        "\n",
        "        x = int(input(f\"Enter Value {i}  : \"))\n",
        "        values.append(x)\n",
        "\n",
        "    print (\"The optimal value is :\", minimax(0, 0, True, values, MIN, MAX)) "
      ],
      "metadata": {
        "id": "AxByb5BfoZ_i"
      },
      "execution_count": null,
      "outputs": []
    },
    {
      "cell_type": "markdown",
      "source": [
        "DEMO CODE FROM JUPYTER"
      ],
      "metadata": {
        "id": "E0DGEcW3o3QC"
      }
    },
    {
      "cell_type": "code",
      "source": [],
      "metadata": {
        "id": "6BJifBmOo9ce"
      },
      "execution_count": null,
      "outputs": []
    }
  ]
}